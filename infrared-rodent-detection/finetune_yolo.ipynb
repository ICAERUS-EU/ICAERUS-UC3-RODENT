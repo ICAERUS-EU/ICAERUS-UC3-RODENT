{
 "cells": [
  {
   "cell_type": "code",
   "execution_count": null,
   "id": "8fd5d0da",
   "metadata": {},
   "outputs": [],
   "source": [
    "from ultralytics import YOLO\n",
    "import os\n",
    "import random"
   ]
  },
  {
   "cell_type": "code",
   "execution_count": null,
   "id": "a1cb63ee",
   "metadata": {},
   "outputs": [],
   "source": [
    "# Load a pretrained YOLO11n model\n",
    "model = YOLO(\"models/yolo11n.pt\")"
   ]
  },
  {
   "cell_type": "code",
   "execution_count": null,
   "id": "01593b97",
   "metadata": {},
   "outputs": [],
   "source": [
    "# Fine-tune the model on a custom dataset\n",
    "model.train(data=\"finetune.yaml\",\n",
    "            epochs=100,\n",
    "            imgsz=640,\n",
    "            batch=16,\n",
    "            device=0,\n",
    "            name=\"yolo11n-finetuned\"\n",
    "            )"
   ]
  },
  {
   "cell_type": "code",
   "execution_count": null,
   "id": "7fa6dd04",
   "metadata": {},
   "outputs": [],
   "source": [
    "# Evaluate the model's performance on the validation set\n",
    "metrics = model.val(\n",
    "    data=\"finetune.yaml\",\n",
    "    split=\"val\",         \n",
    "    imgsz=640,\n",
    "    batch=16,\n",
    "    device=0,\n",
    "    name=\"yolo11n-finetuned-val\"\n",
    "    )"
   ]
  },
  {
   "cell_type": "code",
   "execution_count": null,
   "id": "082ec925",
   "metadata": {},
   "outputs": [],
   "source": [
    "# Evaluate the model's performance on the test set\n",
    "metrics_test = model.val(\n",
    "    data=\"finetune.yaml\",\n",
    "    split=\"test\",         \n",
    "    imgsz=640,\n",
    "    batch=16,\n",
    "    device=0,\n",
    "    name=\"yolo11n-finetuned-test\"\n",
    "    )"
   ]
  }
 ],
 "metadata": {
  "language_info": {
   "name": "python"
  }
 },
 "nbformat": 4,
 "nbformat_minor": 5
}
